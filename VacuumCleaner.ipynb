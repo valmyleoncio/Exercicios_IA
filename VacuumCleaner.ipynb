{
 "cells": [
  {
   "cell_type": "code",
   "execution_count": 1,
   "id": "ca5f0b98",
   "metadata": {},
   "outputs": [],
   "source": [
    "import random\n",
    "import time"
   ]
  },
  {
   "cell_type": "code",
   "execution_count": 2,
   "id": "e173827f",
   "metadata": {},
   "outputs": [],
   "source": [
    "def ambiente():\n",
    "\n",
    "    global estado\n",
    "    estado = []\n",
    "    locais = random.randint(0, 1)\n",
    "    situacao = random.randint(0, 1)\n",
    "    estado.append('A') if locais == 0 else estado.append('B')\n",
    "    estado.append('Limpo') if situacao == 0 else estado.append('Sujo')\n",
    "    print(estado,'\\n')"
   ]
  },
  {
   "cell_type": "code",
   "execution_count": null,
   "id": "a84180dc",
   "metadata": {},
   "outputs": [],
   "source": [
    "def agente():\n",
    "    pontos = 0\n",
    "    while(True):\n",
    "        ambiente()\n",
    "        if estado[1] == 'Sujo':\n",
    "            print('Ambiente sujo, aspirando...')\n",
    "            pontos += 1\n",
    "            time.sleep(3)\n",
    "            print('Pronto, limpo')\n",
    "        else:\n",
    "            print('Ambiente se encontra limpo')\n",
    "            time.sleep(2)\n",
    "\n",
    "        if estado[0] == 'A':\n",
    "            print('Movimentando para a direita')\n",
    "            time.sleep(3)\n",
    "        else:\n",
    "            print('Movimentando para a esquerda')\n",
    "        print('\\nPontos =',pontos)\n",
    "        print('\\n----------------------------')\n",
    "agente()"
   ]
  }
 ],
 "metadata": {
  "kernelspec": {
   "display_name": "Python 3",
   "language": "python",
   "name": "python3"
  },
  "language_info": {
   "codemirror_mode": {
    "name": "ipython",
    "version": 3
   },
   "file_extension": ".py",
   "mimetype": "text/x-python",
   "name": "python",
   "nbconvert_exporter": "python",
   "pygments_lexer": "ipython3",
   "version": "3.8.8"
  }
 },
 "nbformat": 4,
 "nbformat_minor": 5
}
